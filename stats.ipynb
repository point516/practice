{
 "cells": [
  {
   "cell_type": "markdown",
   "metadata": {},
   "source": [
    "## This practice is based on \"Data Analysis with R | R for Data Science and Statistics\" by MarinStatsLectures. But I wrote it in Python."
   ]
  },
  {
   "cell_type": "code",
   "execution_count": 1,
   "metadata": {},
   "outputs": [],
   "source": [
    "import pandas as pd\n",
    "from scipy import stats\n",
    "import numpy as np\n",
    "\n",
    "np.random.seed(42)"
   ]
  },
  {
   "cell_type": "code",
   "execution_count": 2,
   "metadata": {},
   "outputs": [],
   "source": [
    "data = pd.read_csv('LungCapData.txt', delimiter='\\t')"
   ]
  },
  {
   "cell_type": "code",
   "execution_count": 3,
   "metadata": {},
   "outputs": [
    {
     "data": {
      "text/html": [
       "<div>\n",
       "<style scoped>\n",
       "    .dataframe tbody tr th:only-of-type {\n",
       "        vertical-align: middle;\n",
       "    }\n",
       "\n",
       "    .dataframe tbody tr th {\n",
       "        vertical-align: top;\n",
       "    }\n",
       "\n",
       "    .dataframe thead th {\n",
       "        text-align: right;\n",
       "    }\n",
       "</style>\n",
       "<table border=\"1\" class=\"dataframe\">\n",
       "  <thead>\n",
       "    <tr style=\"text-align: right;\">\n",
       "      <th></th>\n",
       "      <th>LungCap</th>\n",
       "      <th>Age</th>\n",
       "      <th>Height</th>\n",
       "      <th>Smoke</th>\n",
       "      <th>Gender</th>\n",
       "      <th>Caesarean</th>\n",
       "    </tr>\n",
       "  </thead>\n",
       "  <tbody>\n",
       "    <tr>\n",
       "      <th>0</th>\n",
       "      <td>6.475</td>\n",
       "      <td>6</td>\n",
       "      <td>62.1</td>\n",
       "      <td>no</td>\n",
       "      <td>male</td>\n",
       "      <td>no</td>\n",
       "    </tr>\n",
       "    <tr>\n",
       "      <th>1</th>\n",
       "      <td>10.125</td>\n",
       "      <td>18</td>\n",
       "      <td>74.7</td>\n",
       "      <td>yes</td>\n",
       "      <td>female</td>\n",
       "      <td>no</td>\n",
       "    </tr>\n",
       "    <tr>\n",
       "      <th>2</th>\n",
       "      <td>9.550</td>\n",
       "      <td>16</td>\n",
       "      <td>69.7</td>\n",
       "      <td>no</td>\n",
       "      <td>female</td>\n",
       "      <td>yes</td>\n",
       "    </tr>\n",
       "    <tr>\n",
       "      <th>3</th>\n",
       "      <td>11.125</td>\n",
       "      <td>14</td>\n",
       "      <td>71.0</td>\n",
       "      <td>no</td>\n",
       "      <td>male</td>\n",
       "      <td>no</td>\n",
       "    </tr>\n",
       "    <tr>\n",
       "      <th>4</th>\n",
       "      <td>4.800</td>\n",
       "      <td>5</td>\n",
       "      <td>56.9</td>\n",
       "      <td>no</td>\n",
       "      <td>male</td>\n",
       "      <td>no</td>\n",
       "    </tr>\n",
       "  </tbody>\n",
       "</table>\n",
       "</div>"
      ],
      "text/plain": [
       "   LungCap  Age  Height Smoke  Gender Caesarean\n",
       "0    6.475    6    62.1    no    male        no\n",
       "1   10.125   18    74.7   yes  female        no\n",
       "2    9.550   16    69.7    no  female       yes\n",
       "3   11.125   14    71.0    no    male        no\n",
       "4    4.800    5    56.9    no    male        no"
      ]
     },
     "execution_count": 3,
     "metadata": {},
     "output_type": "execute_result"
    }
   ],
   "source": [
    "data.head()"
   ]
  },
  {
   "cell_type": "code",
   "execution_count": 14,
   "metadata": {},
   "outputs": [
    {
     "name": "stdout",
     "output_type": "stream",
     "text": [
      "7.863147586206895\n",
      "8.0\n",
      "0.3     6.55\n",
      "0.5     8.00\n",
      "0.8    10.20\n",
      "Name: LungCap, dtype: float64\n",
      "[[1.        0.8196749]\n",
      " [0.8196749 1.       ]]\n"
     ]
    }
   ],
   "source": [
    "print(data['LungCap'].mean())\n",
    "print(stats.trim_mean(data['LungCap'], 0.5))\n",
    "print(data['LungCap'].quantile([0.3,0.5,0.8]))\n",
    "print(np.corrcoef(data['LungCap'], data['Age']))"
   ]
  },
  {
   "cell_type": "markdown",
   "metadata": {},
   "source": [
    "### Binomial Distribution"
   ]
  },
  {
   "cell_type": "code",
   "execution_count": 20,
   "metadata": {},
   "outputs": [
    {
     "name": "stdout",
     "output_type": "stream",
     "text": [
      "[0.02608405 0.10433621 0.19823881 0.23788657]\n",
      "0.566545637775669\n"
     ]
    }
   ],
   "source": [
    "k = 3  # Number of successes\n",
    "n = 20  # Number of trials\n",
    "p = 1/6  # Probability of success on each trial\n",
    "\n",
    "print(stats.binom.pmf([0,1,2,3],n,p)) #probability mass function\n",
    "print(stats.binom.cdf(k,n,p)) #Cumulative Distribution Function"
   ]
  },
  {
   "cell_type": "markdown",
   "metadata": {},
   "source": [
    "### Getting the probabilities, percentiles ansd samples from the normal distribution"
   ]
  },
  {
   "cell_type": "code",
   "execution_count": 23,
   "metadata": {},
   "outputs": [
    {
     "name": "stdout",
     "output_type": "stream",
     "text": [
      "0.15865525393145707\n",
      "71.62755124901959\n",
      "0.04839414490382867\n"
     ]
    }
   ],
   "source": [
    "#cumulative distribution function (CDF) for a normal distribution\n",
    "x = 70.0  \n",
    "mu = 75  \n",
    "sigma = 5  \n",
    "\n",
    "# Calculate the CDF of x for a normal distribution with mean mu and standard deviation sigma\n",
    "print(stats.norm.cdf(x, mu, sigma)) #pnorm() in R\n",
    "print(stats.norm.ppf(0.25, mu, sigma)) #qnorm() in R\n",
    "print(stats.norm.pdf(70, mu, sigma)) #dnorm() in R"
   ]
  },
  {
   "cell_type": "code",
   "execution_count": 25,
   "metadata": {},
   "outputs": [
    {
     "name": "stdout",
     "output_type": "stream",
     "text": [
      "[80.24965054 78.32270892 68.97786181 78.04841467 71.77936907 59.19296501\n",
      " 63.40378855 73.36682852 75.82346107 79.68776319 63.90948005 65.26312869\n",
      " 82.85522352 77.03449281 78.18028281 80.5490668  76.52884299 73.11427328\n",
      " 76.74926566 74.84200321 77.66181959 66.81087772 67.2515495  70.25184813\n",
      " 75.89569348 70.02256944 77.62784778 83.30573081 73.57167946 77.84707736\n",
      " 82.12738097 73.59027836 84.15597717 82.20377793 61.23222429 75.53973456\n",
      " 73.34493066 77.27067832 73.04423959 83.64624074]\n"
     ]
    }
   ],
   "source": [
    "#get N sample from normal distribution\n",
    "n = 40  \n",
    "mu = 75  \n",
    "sigma = 5 \n",
    "\n",
    "samples = np.random.normal(mu,sigma,n)\n",
    "print(samples)"
   ]
  },
  {
   "cell_type": "markdown",
   "metadata": {},
   "source": [
    "### Finding probabilities and percentiles for t-distribution"
   ]
  },
  {
   "cell_type": "code",
   "execution_count": 5,
   "metadata": {},
   "outputs": [
    {
     "name": "stdout",
     "output_type": "stream",
     "text": [
      "0.9849632450175315\n",
      "0.03007350996493699\n",
      "-2.0595385527532946\n"
     ]
    }
   ],
   "source": [
    "#t-Distribution and t-Scores, finding p-value\n",
    "t=2.3\n",
    "n=25\n",
    "\n",
    "print(stats.t.cdf(t,n)) #left-sided \n",
    "print(1-stats.t.cdf(t,n)+stats.t.cdf(-t,n)) #two-sided \n",
    " \n",
    "#find t for 95% confidence\n",
    "#value of t with 2.5% in each tail\n",
    "print(stats.t.ppf(0.025, 25))"
   ]
  },
  {
   "cell_type": "markdown",
   "metadata": {},
   "source": [
    "### t-test"
   ]
  },
  {
   "cell_type": "code",
   "execution_count": 12,
   "metadata": {},
   "outputs": [
    {
     "name": "stdout",
     "output_type": "stream",
     "text": [
      "TtestResult(statistic=-1.3842421466872463, pvalue=0.1667108338400536, df=724)\n",
      "ConfidenceInterval(low=7.66905224404265, high=8.05724292837114)\n"
     ]
    }
   ],
   "source": [
    "popmean = 8\n",
    "\n",
    "res = stats.ttest_1samp(data['LungCap'], popmean, alternative='two-sided')\n",
    "print(res)\n",
    "print(res.confidence_interval(0.95))"
   ]
  },
  {
   "cell_type": "markdown",
   "metadata": {},
   "source": [
    "### Paired t-test & Wilcoxon"
   ]
  },
  {
   "cell_type": "code",
   "execution_count": 8,
   "metadata": {},
   "outputs": [
    {
     "name": "stdout",
     "output_type": "stream",
     "text": [
      "TtestResult(statistic=3.8882014140500063, pvalue=0.0006985894059870637, df=24)\n",
      "ConfidenceInterval(low=2.2452785605888215, high=13.754721439411178)\n",
      "WilcoxonResult(statistic=33.0, pvalue=0.0008220918692306016)\n"
     ]
    }
   ],
   "source": [
    "#paired t-test\n",
    "data = pd.read_csv('BloodPressure.txt', delimiter='\\t')\n",
    "\n",
    "res = stats.ttest_rel(data['Before'], data['After'])\n",
    "print(res)\n",
    "print(res.confidence_interval(0.99))\n",
    "\n",
    "#wilcoxon\n",
    "res = stats.wilcoxon(data['Before'], data['After'], method='approx', correction=False) #correction - continuity correction; method - method to calculate p-value\n",
    "print(res)"
   ]
  },
  {
   "cell_type": "markdown",
   "metadata": {},
   "source": [
    "### two-sample t-test for independent groups\n"
   ]
  },
  {
   "cell_type": "code",
   "execution_count": 3,
   "metadata": {},
   "outputs": [
    {
     "name": "stdout",
     "output_type": "stream",
     "text": [
      "TtestResult(statistic=3.649750522823789, pvalue=0.0003927364779843199, df=117.71871064770068)\n",
      "ConfidenceInterval(low=0.4003547950296715, high=1.3501777526695475)\n"
     ]
    }
   ],
   "source": [
    "res = stats.ttest_ind(data.loc[data['Smoke'] == 'yes','LungCap'], data.loc[data['Smoke'] == 'no','LungCap'], equal_var=False, alternative='two-sided')\n",
    "print(res)\n",
    "print(res.confidence_interval(0.95))"
   ]
  },
  {
   "cell_type": "markdown",
   "metadata": {},
   "source": [
    "### Bootstrap Hypothesis Testing"
   ]
  },
  {
   "cell_type": "code",
   "execution_count": 29,
   "metadata": {},
   "outputs": [
    {
     "name": "stdout",
     "output_type": "stream",
     "text": [
      "0.097\n",
      "0.0691\n"
     ]
    }
   ],
   "source": [
    "df = pd.read_csv('ChickData.csv')\n",
    "\n",
    "t_stat1 = abs(df[df['feed']=='casein']['weight'].mean() - df[df['feed']=='meatmeal']['weight'].mean()) #test stat 1\n",
    "t_stat2 = abs(df[df['feed']=='casein']['weight'].median() - df[df['feed']=='meatmeal']['weight'].median()) #test stat 2\n",
    "\n",
    "n = df.shape[0]\n",
    "B = 10000\n",
    "\n",
    "bs = np.random.choice(a = df['weight'], size = n*B, replace = True).reshape(n,B) #bootstrapping\n",
    "bs_stat1 = np.zeros(B)\n",
    "bs_stat2 = np.zeros(B)\n",
    "\n",
    "for i in range(B): #calculatign test stats for each bootstrap\n",
    "    bs_stat1[i] = abs(np.mean(bs[:13,i]) - np.mean(bs[13:,i]))\n",
    "    bs_stat2[i] = abs(np.median(bs[:13,i]) - np.median(bs[13:,i]))\n",
    "\n",
    "print(np.mean(bs_stat1 >= t_stat1)) #p-value for bootstrap HT t_stat1\n",
    "print(np.mean(bs_stat2 >= t_stat2)) #p-value for bootstrap HT t_stat2"
   ]
  },
  {
   "cell_type": "markdown",
   "metadata": {},
   "source": [
    "### Bootstrap Confidence Interval"
   ]
  },
  {
   "cell_type": "code",
   "execution_count": 5,
   "metadata": {},
   "outputs": [
    {
     "name": "stdout",
     "output_type": "stream",
     "text": [
      "[-4.36363636 96.71231061]\n",
      "[-24.5 116. ]\n"
     ]
    }
   ],
   "source": [
    "df = pd.read_csv('ChickData.csv')\n",
    "\n",
    "t_stat1 = df[df['feed']=='casein']['weight'].mean() - df[df['feed']=='meatmeal']['weight'].mean() #test stat 1\n",
    "t_stat2 = df[df['feed']=='casein']['weight'].median() - df[df['feed']=='meatmeal']['weight'].median() #test stat 2\n",
    "\n",
    "n_casein = 12\n",
    "n_meat = 11\n",
    "B = 100000\n",
    "\n",
    "bs_casein = np.random.choice(a = df[df['feed']=='casein']['weight'], size = n_casein*B, replace = True).reshape(n_casein,B)\n",
    "bs_meat = np.random.choice(a = df[df['feed']=='meatmeal']['weight'], size = n_meat*B, replace = True).reshape(n_meat,B)\n",
    "bs_stat1 = np.zeros(B)\n",
    "bs_stat2 = np.zeros(B)\n",
    "\n",
    "bs_stat1 = np.mean(bs_casein,axis=0) - np.mean(bs_meat,axis=0)\n",
    "bs_stat2 = np.median(bs_casein,axis=0) - np.median(bs_meat,axis=0)\n",
    "\n",
    "#95% conf.int\n",
    "conf_mean = np.quantile(bs_stat1,[0.025,0.975]) \n",
    "conf_median = np.quantile(bs_stat2,[0.025,0.975])\n",
    "\n",
    "print(conf_mean) \n",
    "print(conf_median)"
   ]
  },
  {
   "cell_type": "markdown",
   "metadata": {},
   "source": [
    "### Permutation Hypothesis Testing\n"
   ]
  },
  {
   "cell_type": "code",
   "execution_count": 10,
   "metadata": {},
   "outputs": [
    {
     "name": "stdout",
     "output_type": "stream",
     "text": [
      "0.1018\n",
      "0.0529\n"
     ]
    }
   ],
   "source": [
    "df = pd.read_csv('ChickData.csv')\n",
    "\n",
    "t_stat1 = abs(df[df['feed']=='casein']['weight'].mean() - df[df['feed']=='meatmeal']['weight'].mean()) #test stat 1\n",
    "t_stat2 = abs(df[df['feed']=='casein']['weight'].median() - df[df['feed']=='meatmeal']['weight'].median()) #test stat 2\n",
    "\n",
    "n = df.shape[0]\n",
    "P = 10000\n",
    "bs = np.zeros((n,P))\n",
    "\n",
    "for i in range(P):\n",
    "    bs[:,i] = np.random.choice(a = df['weight'], size = n, replace = False) #Permutation\n",
    "\n",
    "bs_stat1 = np.zeros(P)\n",
    "bs_stat2 = np.zeros(P)\n",
    "\n",
    "bs_stat1 = np.abs(np.mean(bs[:13,:],axis=0) - np.mean(bs[13:,:],axis=0))\n",
    "bs_stat2 = np.abs(np.median(bs[:13,:],axis=0) - np.median(bs[13:,:],axis=0))\n",
    "\n",
    "print(np.mean(bs_stat1 >= t_stat1)) #p-value for bootstrap HT t_stat1\n",
    "print(np.mean(bs_stat2 >= t_stat2)) #p-value for bootstrap HT t_stat2"
   ]
  },
  {
   "cell_type": "markdown",
   "metadata": {},
   "source": [
    "### ANOVA"
   ]
  },
  {
   "cell_type": "code",
   "execution_count": 20,
   "metadata": {},
   "outputs": [
    {
     "name": "stdout",
     "output_type": "stream",
     "text": [
      "            df      sum_sq    mean_sq         F    PR(>F)\n",
      "C(Diet)    3.0   97.329833  32.443278  6.117526  0.001128\n",
      "Residual  56.0  296.986667   5.303333       NaN       NaN\n"
     ]
    }
   ],
   "source": [
    "import statsmodels.api as sm\n",
    "from statsmodels.formula.api import ols\n",
    "from statsmodels.stats.anova import anova_lm\n",
    "from statsmodels.stats.multicomp import pairwise_tukeyhsd\n",
    "\n",
    "\n",
    "data = pd.read_csv('DietWeigthLoss.txt', delimiter='\\t')\n",
    "model = ols('WeightLoss ~ C(Diet)', data=data).fit()\n",
    "\n",
    "anova_res = anova_lm(model)\n",
    "print(anova_res)"
   ]
  },
  {
   "cell_type": "code",
   "execution_count": 19,
   "metadata": {},
   "outputs": [
    {
     "data": {
      "text/html": [
       "<table class=\"simpletable\">\n",
       "<caption>OLS Regression Results</caption>\n",
       "<tr>\n",
       "  <th>Dep. Variable:</th>       <td>WeightLoss</td>    <th>  R-squared:         </th> <td>   0.247</td>\n",
       "</tr>\n",
       "<tr>\n",
       "  <th>Model:</th>                   <td>OLS</td>       <th>  Adj. R-squared:    </th> <td>   0.206</td>\n",
       "</tr>\n",
       "<tr>\n",
       "  <th>Method:</th>             <td>Least Squares</td>  <th>  F-statistic:       </th> <td>   6.118</td>\n",
       "</tr>\n",
       "<tr>\n",
       "  <th>Date:</th>             <td>Thu, 25 Apr 2024</td> <th>  Prob (F-statistic):</th>  <td>0.00113</td>\n",
       "</tr>\n",
       "<tr>\n",
       "  <th>Time:</th>                 <td>23:38:46</td>     <th>  Log-Likelihood:    </th> <td> -133.12</td>\n",
       "</tr>\n",
       "<tr>\n",
       "  <th>No. Observations:</th>      <td>    60</td>      <th>  AIC:               </th> <td>   274.2</td>\n",
       "</tr>\n",
       "<tr>\n",
       "  <th>Df Residuals:</th>          <td>    56</td>      <th>  BIC:               </th> <td>   282.6</td>\n",
       "</tr>\n",
       "<tr>\n",
       "  <th>Df Model:</th>              <td>     3</td>      <th>                     </th>     <td> </td>   \n",
       "</tr>\n",
       "<tr>\n",
       "  <th>Covariance Type:</th>      <td>nonrobust</td>    <th>                     </th>     <td> </td>   \n",
       "</tr>\n",
       "</table>\n",
       "<table class=\"simpletable\">\n",
       "<tr>\n",
       "        <td></td>          <th>coef</th>     <th>std err</th>      <th>t</th>      <th>P>|t|</th>  <th>[0.025</th>    <th>0.975]</th>  \n",
       "</tr>\n",
       "<tr>\n",
       "  <th>Intercept</th>    <td>    9.1800</td> <td>    0.595</td> <td>   15.439</td> <td> 0.000</td> <td>    7.989</td> <td>   10.371</td>\n",
       "</tr>\n",
       "<tr>\n",
       "  <th>C(Diet)[T.B]</th> <td>   -0.2733</td> <td>    0.841</td> <td>   -0.325</td> <td> 0.746</td> <td>   -1.958</td> <td>    1.411</td>\n",
       "</tr>\n",
       "<tr>\n",
       "  <th>C(Diet)[T.C]</th> <td>    2.9333</td> <td>    0.841</td> <td>    3.488</td> <td> 0.001</td> <td>    1.249</td> <td>    4.618</td>\n",
       "</tr>\n",
       "<tr>\n",
       "  <th>C(Diet)[T.D]</th> <td>    1.3600</td> <td>    0.841</td> <td>    1.617</td> <td> 0.111</td> <td>   -0.325</td> <td>    3.045</td>\n",
       "</tr>\n",
       "</table>\n",
       "<table class=\"simpletable\">\n",
       "<tr>\n",
       "  <th>Omnibus:</th>       <td> 1.903</td> <th>  Durbin-Watson:     </th> <td>   2.102</td>\n",
       "</tr>\n",
       "<tr>\n",
       "  <th>Prob(Omnibus):</th> <td> 0.386</td> <th>  Jarque-Bera (JB):  </th> <td>   1.879</td>\n",
       "</tr>\n",
       "<tr>\n",
       "  <th>Skew:</th>          <td>-0.391</td> <th>  Prob(JB):          </th> <td>   0.391</td>\n",
       "</tr>\n",
       "<tr>\n",
       "  <th>Kurtosis:</th>      <td> 2.626</td> <th>  Cond. No.          </th> <td>    4.79</td>\n",
       "</tr>\n",
       "</table><br/><br/>Notes:<br/>[1] Standard Errors assume that the covariance matrix of the errors is correctly specified."
      ],
      "text/latex": [
       "\\begin{center}\n",
       "\\begin{tabular}{lclc}\n",
       "\\toprule\n",
       "\\textbf{Dep. Variable:}    &    WeightLoss    & \\textbf{  R-squared:         } &     0.247   \\\\\n",
       "\\textbf{Model:}            &       OLS        & \\textbf{  Adj. R-squared:    } &     0.206   \\\\\n",
       "\\textbf{Method:}           &  Least Squares   & \\textbf{  F-statistic:       } &     6.118   \\\\\n",
       "\\textbf{Date:}             & Thu, 25 Apr 2024 & \\textbf{  Prob (F-statistic):} &  0.00113    \\\\\n",
       "\\textbf{Time:}             &     23:38:46     & \\textbf{  Log-Likelihood:    } &   -133.12   \\\\\n",
       "\\textbf{No. Observations:} &          60      & \\textbf{  AIC:               } &     274.2   \\\\\n",
       "\\textbf{Df Residuals:}     &          56      & \\textbf{  BIC:               } &     282.6   \\\\\n",
       "\\textbf{Df Model:}         &           3      & \\textbf{                     } &             \\\\\n",
       "\\textbf{Covariance Type:}  &    nonrobust     & \\textbf{                     } &             \\\\\n",
       "\\bottomrule\n",
       "\\end{tabular}\n",
       "\\begin{tabular}{lcccccc}\n",
       "                      & \\textbf{coef} & \\textbf{std err} & \\textbf{t} & \\textbf{P$> |$t$|$} & \\textbf{[0.025} & \\textbf{0.975]}  \\\\\n",
       "\\midrule\n",
       "\\textbf{Intercept}    &       9.1800  &        0.595     &    15.439  &         0.000        &        7.989    &       10.371     \\\\\n",
       "\\textbf{C(Diet)[T.B]} &      -0.2733  &        0.841     &    -0.325  &         0.746        &       -1.958    &        1.411     \\\\\n",
       "\\textbf{C(Diet)[T.C]} &       2.9333  &        0.841     &     3.488  &         0.001        &        1.249    &        4.618     \\\\\n",
       "\\textbf{C(Diet)[T.D]} &       1.3600  &        0.841     &     1.617  &         0.111        &       -0.325    &        3.045     \\\\\n",
       "\\bottomrule\n",
       "\\end{tabular}\n",
       "\\begin{tabular}{lclc}\n",
       "\\textbf{Omnibus:}       &  1.903 & \\textbf{  Durbin-Watson:     } &    2.102  \\\\\n",
       "\\textbf{Prob(Omnibus):} &  0.386 & \\textbf{  Jarque-Bera (JB):  } &    1.879  \\\\\n",
       "\\textbf{Skew:}          & -0.391 & \\textbf{  Prob(JB):          } &    0.391  \\\\\n",
       "\\textbf{Kurtosis:}      &  2.626 & \\textbf{  Cond. No.          } &     4.79  \\\\\n",
       "\\bottomrule\n",
       "\\end{tabular}\n",
       "%\\caption{OLS Regression Results}\n",
       "\\end{center}\n",
       "\n",
       "Notes: \\newline\n",
       " [1] Standard Errors assume that the covariance matrix of the errors is correctly specified."
      ],
      "text/plain": [
       "<class 'statsmodels.iolib.summary.Summary'>\n",
       "\"\"\"\n",
       "                            OLS Regression Results                            \n",
       "==============================================================================\n",
       "Dep. Variable:             WeightLoss   R-squared:                       0.247\n",
       "Model:                            OLS   Adj. R-squared:                  0.206\n",
       "Method:                 Least Squares   F-statistic:                     6.118\n",
       "Date:                Thu, 25 Apr 2024   Prob (F-statistic):            0.00113\n",
       "Time:                        23:38:46   Log-Likelihood:                -133.12\n",
       "No. Observations:                  60   AIC:                             274.2\n",
       "Df Residuals:                      56   BIC:                             282.6\n",
       "Df Model:                           3                                         \n",
       "Covariance Type:            nonrobust                                         \n",
       "================================================================================\n",
       "                   coef    std err          t      P>|t|      [0.025      0.975]\n",
       "--------------------------------------------------------------------------------\n",
       "Intercept        9.1800      0.595     15.439      0.000       7.989      10.371\n",
       "C(Diet)[T.B]    -0.2733      0.841     -0.325      0.746      -1.958       1.411\n",
       "C(Diet)[T.C]     2.9333      0.841      3.488      0.001       1.249       4.618\n",
       "C(Diet)[T.D]     1.3600      0.841      1.617      0.111      -0.325       3.045\n",
       "==============================================================================\n",
       "Omnibus:                        1.903   Durbin-Watson:                   2.102\n",
       "Prob(Omnibus):                  0.386   Jarque-Bera (JB):                1.879\n",
       "Skew:                          -0.391   Prob(JB):                        0.391\n",
       "Kurtosis:                       2.626   Cond. No.                         4.79\n",
       "==============================================================================\n",
       "\n",
       "Notes:\n",
       "[1] Standard Errors assume that the covariance matrix of the errors is correctly specified.\n",
       "\"\"\""
      ]
     },
     "execution_count": 19,
     "metadata": {},
     "output_type": "execute_result"
    }
   ],
   "source": [
    "model.summary()"
   ]
  },
  {
   "cell_type": "code",
   "execution_count": 23,
   "metadata": {},
   "outputs": [
    {
     "data": {
      "text/html": [
       "<table class=\"simpletable\">\n",
       "<caption>Multiple Comparison of Means - Tukey HSD, FWER=0.05</caption>\n",
       "<tr>\n",
       "  <th>group1</th> <th>group2</th> <th>meandiff</th>  <th>p-adj</th>  <th>lower</th>   <th>upper</th> <th>reject</th>\n",
       "</tr>\n",
       "<tr>\n",
       "     <td>A</td>      <td>B</td>    <td>-0.2733</td>  <td>0.988</td> <td>-2.4999</td> <td>1.9533</td>  <td>False</td>\n",
       "</tr>\n",
       "<tr>\n",
       "     <td>A</td>      <td>C</td>    <td>2.9333</td>  <td>0.0051</td> <td>0.7067</td>  <td>5.1599</td>  <td>True</td> \n",
       "</tr>\n",
       "<tr>\n",
       "     <td>A</td>      <td>D</td>     <td>1.36</td>   <td>0.3774</td> <td>-0.8666</td> <td>3.5866</td>  <td>False</td>\n",
       "</tr>\n",
       "<tr>\n",
       "     <td>B</td>      <td>C</td>    <td>3.2067</td>  <td>0.0019</td> <td>0.9801</td>  <td>5.4333</td>  <td>True</td> \n",
       "</tr>\n",
       "<tr>\n",
       "     <td>B</td>      <td>D</td>    <td>1.6333</td>  <td>0.2224</td> <td>-0.5933</td> <td>3.8599</td>  <td>False</td>\n",
       "</tr>\n",
       "<tr>\n",
       "     <td>C</td>      <td>D</td>    <td>-1.5733</td> <td>0.2521</td> <td>-3.7999</td> <td>0.6533</td>  <td>False</td>\n",
       "</tr>\n",
       "</table>"
      ],
      "text/latex": [
       "\\begin{center}\n",
       "\\begin{tabular}{ccccccc}\n",
       "\\toprule\n",
       "\\textbf{group1} & \\textbf{group2} & \\textbf{meandiff} & \\textbf{p-adj} & \\textbf{lower} & \\textbf{upper} & \\textbf{reject}  \\\\\n",
       "\\midrule\n",
       "       A        &        B        &      -0.2733      &     0.988      &    -2.4999     &     1.9533     &      False       \\\\\n",
       "       A        &        C        &       2.9333      &     0.0051     &     0.7067     &     5.1599     &       True       \\\\\n",
       "       A        &        D        &        1.36       &     0.3774     &    -0.8666     &     3.5866     &      False       \\\\\n",
       "       B        &        C        &       3.2067      &     0.0019     &     0.9801     &     5.4333     &       True       \\\\\n",
       "       B        &        D        &       1.6333      &     0.2224     &    -0.5933     &     3.8599     &      False       \\\\\n",
       "       C        &        D        &      -1.5733      &     0.2521     &    -3.7999     &     0.6533     &      False       \\\\\n",
       "\\bottomrule\n",
       "\\end{tabular}\n",
       "%\\caption{Multiple Comparison of Means - Tukey HSD, FWER=0.05}\n",
       "\\end{center}"
      ],
      "text/plain": [
       "<class 'statsmodels.iolib.table.SimpleTable'>"
      ]
     },
     "execution_count": 23,
     "metadata": {},
     "output_type": "execute_result"
    }
   ],
   "source": [
    "#Comparing each pair (TukeyHSD)\n",
    "\n",
    "tukey = pairwise_tukeyhsd(endog=data['WeightLoss'],     # Data\n",
    "                          groups=data['Diet'],   # Groups\n",
    "                          alpha=0.05)               # Significance level\n",
    "\n",
    "tukey.summary()"
   ]
  },
  {
   "cell_type": "markdown",
   "metadata": {},
   "source": [
    "### Chi Squared"
   ]
  },
  {
   "cell_type": "code",
   "execution_count": 13,
   "metadata": {},
   "outputs": [
    {
     "data": {
      "text/plain": [
       "SignificanceResult(statistic=0.7050898203592815, pvalue=0.18454257294554005)"
      ]
     },
     "execution_count": 13,
     "metadata": {},
     "output_type": "execute_result"
    }
   ],
   "source": [
    "df = pd.read_csv('LungCapData.txt', delimiter='\\t')\n",
    "data = pd.crosstab(df['Gender'], df['Smoke']).to_numpy()\n",
    "\n",
    "stats.chi2_contingency(data)\n",
    "stats.fisher_exact(data)"
   ]
  },
  {
   "cell_type": "markdown",
   "metadata": {},
   "source": [
    "### Simple Linear Regression"
   ]
  },
  {
   "cell_type": "code",
   "execution_count": 2,
   "metadata": {},
   "outputs": [
    {
     "name": "stdout",
     "output_type": "stream",
     "text": [
      "                            OLS Regression Results                            \n",
      "==============================================================================\n",
      "Dep. Variable:                LungCap   R-squared:                       0.672\n",
      "Model:                            OLS   Adj. R-squared:                  0.671\n",
      "Method:                 Least Squares   F-statistic:                     1480.\n",
      "Date:                Mon, 29 Apr 2024   Prob (F-statistic):          4.08e-177\n",
      "Time:                        23:46:22   Log-Likelihood:                -1334.1\n",
      "No. Observations:                 725   AIC:                             2672.\n",
      "Df Residuals:                     723   BIC:                             2681.\n",
      "Df Model:                           1                                         \n",
      "Covariance Type:            nonrobust                                         \n",
      "==============================================================================\n",
      "                 coef    std err          t      P>|t|      [0.025      0.975]\n",
      "------------------------------------------------------------------------------\n",
      "const          1.1469      0.184      6.249      0.000       0.787       1.507\n",
      "Age            0.5448      0.014     38.476      0.000       0.517       0.573\n",
      "==============================================================================\n",
      "Omnibus:                        0.533   Durbin-Watson:                   1.805\n",
      "Prob(Omnibus):                  0.766   Jarque-Bera (JB):                0.628\n",
      "Skew:                          -0.018   Prob(JB):                        0.730\n",
      "Kurtosis:                       2.860   Cond. No.                         42.2\n",
      "==============================================================================\n",
      "\n",
      "Notes:\n",
      "[1] Standard Errors assume that the covariance matrix of the errors is correctly specified.\n"
     ]
    }
   ],
   "source": [
    "import statsmodels.api as sm\n",
    "\n",
    "data = pd.read_csv('LungCapData.txt', delimiter='\\t')\n",
    "X = data['Age']\n",
    "Y = data['LungCap']\n",
    "\n",
    "X = sm.add_constant(X)\n",
    "model = sm.OLS(Y,X)\n",
    "results = model.fit()\n",
    "\n",
    "print(results.summary())"
   ]
  }
 ],
 "metadata": {
  "kernelspec": {
   "display_name": "Python 3",
   "language": "python",
   "name": "python3"
  },
  "language_info": {
   "codemirror_mode": {
    "name": "ipython",
    "version": 3
   },
   "file_extension": ".py",
   "mimetype": "text/x-python",
   "name": "python",
   "nbconvert_exporter": "python",
   "pygments_lexer": "ipython3",
   "version": "3.10.11"
  }
 },
 "nbformat": 4,
 "nbformat_minor": 2
}
